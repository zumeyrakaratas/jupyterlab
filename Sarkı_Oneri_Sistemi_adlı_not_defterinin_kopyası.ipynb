{
  "cells": [
    {
      "cell_type": "markdown",
      "metadata": {
        "id": "view-in-github",
        "colab_type": "text"
      },
      "source": [
        "<a href=\"https://colab.research.google.com/github/zumeyrakaratas/jupyterlab/blob/main/Sark%C4%B1_Oneri_Sistemi_adl%C4%B1_not_defterinin_kopyas%C4%B1.ipynb\" target=\"_parent\"><img src=\"https://colab.research.google.com/assets/colab-badge.svg\" alt=\"Open In Colab\"/></a>"
      ]
    },
    {
      "cell_type": "code",
      "source": [
        "# Gerekli kütüphaneyi yükleyin\n",
        "!pip install requests\n",
        "\n",
        "import requests\n",
        "\n",
        "# Genius API anahtarı\n",
        "access_token = '4aYtyQzaYiCQBCLWG1AoNNYpBzL_AfjSi6O-O4R8RG_8Zd4zfOKCVitQnBdc4IH9'  # Buraya kendi API anahtarınızı girin\n",
        "base_url = \"https://api.genius.com/\"\n",
        "\n",
        "# Şarkı sözlerini almak için fonksiyon\n",
        "def get_song_lyrics(song_id):\n",
        "    headers = {'Authorization': f'Bearer {access_token}'}\n",
        "    url = f\"{base_url}songs/{song_id}\"\n",
        "    response = requests.get(url, headers=headers)\n",
        "    song_data = response.json()\n",
        "\n",
        "    # Şarkı sözlerinin bulunduğu URL'yi döndür\n",
        "    lyrics_url = song_data['response']['song']['url']\n",
        "    return lyrics_url  # Şarkının URL'sine yönlendirecek\n",
        "\n",
        "# Örnek olarak bir şarkı ID'si girerek şarkı sözlerini alabilirsiniz\n",
        "song_id = 1234567  # Buraya geçerli bir şarkı ID'si girmelisiniz\n",
        "lyrics = get_song_lyrics(song_id)\n",
        "print(lyrics)\n"
      ],
      "metadata": {
        "colab": {
          "base_uri": "https://localhost:8080/"
        },
        "id": "lNTPVc36O0aR",
        "outputId": "8351085a-2bcb-47e0-fc63-72af2260b1c7"
      },
      "execution_count": null,
      "outputs": [
        {
          "output_type": "stream",
          "name": "stdout",
          "text": [
            "Requirement already satisfied: requests in /usr/local/lib/python3.11/dist-packages (2.32.3)\n",
            "Requirement already satisfied: charset-normalizer<4,>=2 in /usr/local/lib/python3.11/dist-packages (from requests) (3.4.1)\n",
            "Requirement already satisfied: idna<4,>=2.5 in /usr/local/lib/python3.11/dist-packages (from requests) (3.10)\n",
            "Requirement already satisfied: urllib3<3,>=1.21.1 in /usr/local/lib/python3.11/dist-packages (from requests) (2.4.0)\n",
            "Requirement already satisfied: certifi>=2017.4.17 in /usr/local/lib/python3.11/dist-packages (from requests) (2025.4.26)\n",
            "https://genius.com/Lobao-bra-panamericana-lyrics\n"
          ]
        }
      ]
    },
    {
      "cell_type": "code",
      "source": [
        "from google.colab import drive\n",
        "drive.mount('/content/drive')"
      ],
      "metadata": {
        "colab": {
          "base_uri": "https://localhost:8080/"
        },
        "id": "PLO7L83eoE5X",
        "outputId": "b37fb8cc-bfa0-4ec9-d1ec-edbdf0f481cc"
      },
      "execution_count": null,
      "outputs": [
        {
          "output_type": "stream",
          "name": "stdout",
          "text": [
            "Drive already mounted at /content/drive; to attempt to forcibly remount, call drive.mount(\"/content/drive\", force_remount=True).\n"
          ]
        }
      ]
    },
    {
      "cell_type": "code",
      "source": [
        "from sklearn.feature_extraction.text import TfidfVectorizer\n",
        "from sklearn.metrics.pairwise import cosine_similarity\n",
        "\n",
        "# Şarkı sözlerini örnek olarak bir liste halinde alalım\n",
        "songs_lyrics = [\n",
        "    \"Sonsuza kadar seni seveceğim.\",\n",
        "    \"Asla seni bırakmam.\",\n",
        "    \"Sonsuza kadar seni seveceğim.\"\n",
        "]\n",
        "\n",
        "# Vektörleştirme işlemi\n",
        "vectorizer = TfidfVectorizer()\n",
        "X = vectorizer.fit_transform(songs_lyrics)\n",
        "\n",
        "# Cosine similarity hesaplama\n",
        "similarity_matrix = cosine_similarity(X)\n",
        "print(similarity_matrix)\n"
      ],
      "metadata": {
        "colab": {
          "base_uri": "https://localhost:8080/"
        },
        "id": "_tGnyaSNO0XG",
        "outputId": "66c89e62-4ff0-462b-e5aa-96997e83d091"
      },
      "execution_count": null,
      "outputs": [
        {
          "output_type": "stream",
          "name": "stdout",
          "text": [
            "[[1.         0.15766434 1.        ]\n",
            " [0.15766434 1.         0.15766434]\n",
            " [1.         0.15766434 1.        ]]\n"
          ]
        }
      ]
    },
    {
      "cell_type": "code",
      "source": [
        "def recommend_songs(user_likes, all_songs_lyrics):\n",
        "    vectorizer = TfidfVectorizer()\n",
        "    X = vectorizer.fit_transform(all_songs_lyrics)\n",
        "    user_vector = vectorizer.transform(user_likes)\n",
        "\n",
        "    # Kullanıcı beğenisi ile şarkılar arasındaki benzerliği hesapla\n",
        "    similarity_scores = cosine_similarity(user_vector, X)\n",
        "\n",
        "    # En yüksek benzerlik skorlarına göre 5 önerilen şarkıyı al\n",
        "    recommended_songs = similarity_scores.argsort()[0][-5:][::-1]\n",
        "    return recommended_songs\n",
        "\n",
        "# Kullanıcı beğenisi ve şarkı sözleri\n",
        "user_likes = [\"Sonsuza kadar seni seveceğim.\"]\n",
        "all_songs_lyrics = [\n",
        "    \"Sonsuza kadar seni seveceğim.\",\n",
        "    \"Asla seni bırakmam.\",\n",
        "    \"Sonsuza kadar seni seveceğim.\"\n",
        "]\n",
        "\n",
        "recommended_songs = recommend_songs(user_likes, all_songs_lyrics)\n",
        "print(recommended_songs)\n"
      ],
      "metadata": {
        "colab": {
          "base_uri": "https://localhost:8080/"
        },
        "id": "lRWWE1qUO0UX",
        "outputId": "5205c34d-db2e-4407-b9eb-a1799a7d04ad"
      },
      "execution_count": null,
      "outputs": [
        {
          "output_type": "stream",
          "name": "stdout",
          "text": [
            "[2 0 1]\n"
          ]
        }
      ]
    },
    {
      "cell_type": "code",
      "source": [
        "import matplotlib.pyplot as plt\n",
        "import numpy as np\n",
        "\n",
        "def plot_similarity(similarity_matrix, song_titles):\n",
        "    fig, ax = plt.subplots()\n",
        "    cax = ax.matshow(similarity_matrix, cmap='viridis')\n",
        "    plt.xticks(np.arange(len(song_titles)), song_titles, rotation=90)\n",
        "    plt.yticks(np.arange(len(song_titles)), song_titles)\n",
        "    fig.colorbar(cax)\n",
        "    plt.show()\n",
        "\n",
        "# Şarkı başlıkları\n",
        "song_titles = [\"Sonsuza kadar seni seveceğim\", \"Asla seni bırakmam\", \"Sonsuza kadar seni seveceğim\"]\n",
        "\n",
        "# Görselleştirme\n",
        "plot_similarity(similarity_matrix, song_titles)\n"
      ],
      "metadata": {
        "colab": {
          "base_uri": "https://localhost:8080/",
          "height": 634
        },
        "id": "keXVemV_O0RF",
        "outputId": "9b24ee39-c4b0-423e-99e3-d4c0582cf702"
      },
      "execution_count": null,
      "outputs": [
        {
          "output_type": "display_data",
          "data": {
            "text/plain": [
              "<Figure size 640x480 with 2 Axes>"
            ],
            "image/png": "[encoded data removed]"
          },
          "metadata": {}
        }
      ]
    },
    {
      "cell_type": "code",
      "source": [
        "!pip install nltk wikipedia\n"
      ],
      "metadata": {
        "colab": {
          "base_uri": "https://localhost:8080/"
        },
        "id": "JoWNCbAdO0OI",
        "outputId": "e535ee22-cd6a-4635-86bd-0ed9f9165318"
      },
      "execution_count": null,
      "outputs": [
        {
          "output_type": "stream",
          "name": "stdout",
          "text": [
            "Requirement already satisfied: nltk in /usr/local/lib/python3.11/dist-packages (3.9.1)\n",
            "Requirement already satisfied: wikipedia in /usr/local/lib/python3.11/dist-packages (1.4.0)\n",
            "Requirement already satisfied: click in /usr/local/lib/python3.11/dist-packages (from nltk) (8.1.8)\n",
            "Requirement already satisfied: joblib in /usr/local/lib/python3.11/dist-packages (from nltk) (1.4.2)\n",
            "Requirement already satisfied: regex>=2021.8.3 in /usr/local/lib/python3.11/dist-packages (from nltk) (2024.11.6)\n",
            "Requirement already satisfied: tqdm in /usr/local/lib/python3.11/dist-packages (from nltk) (4.67.1)\n",
            "Requirement already satisfied: beautifulsoup4 in /usr/local/lib/python3.11/dist-packages (from wikipedia) (4.13.4)\n",
            "Requirement already satisfied: requests<3.0.0,>=2.0.0 in /usr/local/lib/python3.11/dist-packages (from wikipedia) (2.32.3)\n",
            "Requirement already satisfied: charset-normalizer<4,>=2 in /usr/local/lib/python3.11/dist-packages (from requests<3.0.0,>=2.0.0->wikipedia) (3.4.1)\n",
            "Requirement already satisfied: idna<4,>=2.5 in /usr/local/lib/python3.11/dist-packages (from requests<3.0.0,>=2.0.0->wikipedia) (3.10)\n",
            "Requirement already satisfied: urllib3<3,>=1.21.1 in /usr/local/lib/python3.11/dist-packages (from requests<3.0.0,>=2.0.0->wikipedia) (2.4.0)\n",
            "Requirement already satisfied: certifi>=2017.4.17 in /usr/local/lib/python3.11/dist-packages (from requests<3.0.0,>=2.0.0->wikipedia) (2025.4.26)\n",
            "Requirement already satisfied: soupsieve>1.2 in /usr/local/lib/python3.11/dist-packages (from beautifulsoup4->wikipedia) (2.7)\n",
            "Requirement already satisfied: typing-extensions>=4.0.0 in /usr/local/lib/python3.11/dist-packages (from beautifulsoup4->wikipedia) (4.13.2)\n"
          ]
        }
      ]
    },
    {
      "cell_type": "code",
      "source": [
        "!pip install beautifulsoup4\n"
      ],
      "metadata": {
        "colab": {
          "base_uri": "https://localhost:8080/"
        },
        "id": "kvPYbp-BO0Hn",
        "outputId": "8d931187-977c-41a4-e1fa-e9d60f58a8ac"
      },
      "execution_count": null,
      "outputs": [
        {
          "output_type": "stream",
          "name": "stdout",
          "text": [
            "Requirement already satisfied: beautifulsoup4 in /usr/local/lib/python3.11/dist-packages (4.13.4)\n",
            "Requirement already satisfied: soupsieve>1.2 in /usr/local/lib/python3.11/dist-packages (from beautifulsoup4) (2.7)\n",
            "Requirement already satisfied: typing-extensions>=4.0.0 in /usr/local/lib/python3.11/dist-packages (from beautifulsoup4) (4.13.2)\n"
          ]
        }
      ]
    },
    {
      "cell_type": "code",
      "source": [
        "import requests\n",
        "from bs4 import BeautifulSoup\n",
        "import nltk\n",
        "from nltk.tokenize import word_tokenize, sent_tokenize\n",
        "from nltk.corpus import stopwords\n",
        "from nltk.stem import WordNetLemmatizer, PorterStemmer\n",
        "from sklearn.feature_extraction.text import TfidfVectorizer\n",
        "from sklearn.metrics.pairwise import cosine_similarity\n",
        "\n",
        "# Gerekli NLTK kaynaklarını indiriyoruz\n",
        "nltk.download('punkt')\n",
        "nltk.download('stopwords')\n",
        "nltk.download('wordnet')\n",
        "\n",
        "# Genius API'den şarkı sözlerini almak için fonksiyon\n",
        "def get_song_lyrics_url(song_id, access_token):\n",
        "    base_url = \"https://api.genius.com/\"\n",
        "    headers = {'Authorization': f'Bearer {access_token}'}\n",
        "    url = f\"{base_url}songs/{song_id}\"\n",
        "    response = requests.get(url, headers=headers)\n",
        "    song_data = response.json()\n",
        "\n",
        "    if 'response' in song_data and 'song' in song_data['response']:\n",
        "        # Şarkı URL'sini almak\n",
        "        lyrics_url = song_data['response']['song']['url']\n",
        "        return lyrics_url\n",
        "    else:\n",
        "        print(\"Şarkı verisi alınamadı.\")\n",
        "        return None\n",
        "\n",
        "# URL'deki şarkı sözlerini çekme\n",
        "def get_lyrics_from_url(lyrics_url):\n",
        "    response = requests.get(lyrics_url)\n",
        "    soup = BeautifulSoup(response.text, 'html.parser')\n",
        "\n",
        "    # Şarkı sözlerini içeren kısmı buluyoruz\n",
        "    lyrics = soup.find('div', class_='lyrics')\n",
        "\n",
        "    if lyrics:\n",
        "        return lyrics.get_text()\n",
        "    else:\n",
        "        return \"Şarkı sözleri bulunamadı.\"\n",
        "\n",
        "# Şarkı sözlerini işlemek\n",
        "def preprocess_sentence(sentence, stop_words, lemmatizer, stemmer):\n",
        "    tokens = word_tokenize(sentence)  # Cümleyi kelimelere ayır\n",
        "    # Sadece harf olan kelimeleri al ve stopword'leri çıkar\n",
        "    filtered_tokens = [token.lower() for token in tokens if token.isalpha() and token.lower() not in stop_words]\n",
        "    lemmatized_tokens = [lemmatizer.lemmatize(token) for token in filtered_tokens]  # Lemmatize etme\n",
        "    stemmed_tokens = [stemmer.stem(token) for token in filtered_tokens]  # Stemleme\n",
        "    return lemmatized_tokens, stemmed_tokens\n",
        "\n",
        "# Şarkı sözlerini işlemeye başlıyoruz\n",
        "def process_song_lyrics(song_lyrics):\n",
        "    lemmatizer = WordNetLemmatizer()\n",
        "    stemmer = PorterStemmer()\n",
        "    stop_words = set(stopwords.words('english'))\n",
        "\n",
        "    # Şarkı sözlerini cümlelere ayıralım\n",
        "    sentences = sent_tokenize(song_lyrics)\n",
        "\n",
        "    # Cümleleri işleyelim\n",
        "    tokenized_corpus_lemmatized = []\n",
        "    tokenized_corpus_stemmed = []\n",
        "    for sentence in sentences:\n",
        "        lemmatized_tokens, stemmed_tokens = preprocess_sentence(sentence, stop_words, lemmatizer, stemmer)\n",
        "        tokenized_corpus_lemmatized.append(\" \".join(lemmatized_tokens))\n",
        "        tokenized_corpus_stemmed.append(\" \".join(stemmed_tokens))\n",
        "\n",
        "    return tokenized_corpus_lemmatized, tokenized_corpus_stemmed\n",
        "\n",
        "# Benzerlik ölçümü yapmak için fonksiyon (cosine similarity)\n",
        "def calculate_similarity(corpus, query_lyrics):\n",
        "    vectorizer = TfidfVectorizer(stop_words='english')\n",
        "\n",
        "    # Corpus'a kullanıcı şarkısını da ekliyoruz\n",
        "    corpus.append(query_lyrics)\n",
        "\n",
        "    # Vektörize etme\n",
        "    tfidf_matrix = vectorizer.fit_transform(corpus)\n",
        "\n",
        "    # Son cümleyi karşılaştırıyoruz (query_lyrics ile)\n",
        "    cosine_similarities = cosine_similarity(tfidf_matrix[-1], tfidf_matrix[:-1])\n",
        "\n",
        "    return cosine_similarities[0]\n",
        "\n",
        "# Şarkı ID'si ve API anahtarı\n",
        "song_id = 3753306  # Genius API'den alınmış bir şarkı ID'si (örnek: Imagine şarkısı için)\n",
        "access_token = '3iwtzGpsc852GkLITeRjEyIUCLDmdb1cRe-D1Sym2NzBNbAKgAnStbpMEQ2GNnRH'  # Genius API anahtarınız\n",
        "\n",
        "# Şarkı URL'sini alıyoruz\n",
        "lyrics_url = get_song_lyrics_url(song_id, access_token)\n",
        "\n",
        "if lyrics_url:\n",
        "    # Şarkı sözlerini URL'den alıyoruz\n",
        "    song_lyrics = get_lyrics_from_url(lyrics_url)\n",
        "\n",
        "    # Şarkı sözlerini işlemeye başlıyoruz\n",
        "    lemmatized_corpus, stemmed_corpus = process_song_lyrics(song_lyrics)\n",
        "\n",
        "    # İşlenmiş şarkı sözlerini yazdırıyoruz\n",
        "    print(\"Lemmatized Corpus:\")\n",
        "    print(lemmatized_corpus)\n",
        "\n",
        "    print(\"\\nStemmed Corpus:\")\n",
        "    print(stemmed_corpus)\n",
        "\n",
        "    # Kullanıcıdan bir şarkı seçiyoruz\n",
        "    user_query = \"I am the walrus, goo goo g'joob\"  # Kullanıcının sorgusu, örneğin \"I am the walrus\" şarkısı\n",
        "\n",
        "    # Benzerlikleri hesaplıyoruz\n",
        "    similarity_scores = calculate_similarity(lemmatized_corpus, user_query)\n",
        "\n",
        "    # En benzer 5 şarkıyı öner\n",
        "    similar_song_indices = similarity_scores.argsort()[-5:][::-1]\n",
        "    print(\"\\nEn Benzer 5 Şarkı:\")\n",
        "    for idx in similar_song_indices:\n",
        "        print(f\"Benzerlik Skoru: {similarity_scores[idx]}\")\n",
        "        print(f\"Şarkı: {lemmatized_corpus[idx]}\")\n",
        "else:\n",
        "    print(\"Şarkı sözlerine ulaşılamadı.\")\n"
      ],
      "metadata": {
        "colab": {
          "base_uri": "https://localhost:8080/"
        },
        "id": "egd6JittSwP1",
        "outputId": "89b2fb70-ebe2-4bcf-e1dd-873277842ce6"
      },
      "execution_count": null,
      "outputs": [
        {
          "output_type": "stream",
          "name": "stderr",
          "text": [
            "[nltk_data] Downloading package punkt to /root/nltk_data...\n",
            "[nltk_data]   Package punkt is already up-to-date!\n",
            "[nltk_data] Downloading package stopwords to /root/nltk_data...\n",
            "[nltk_data]   Package stopwords is already up-to-date!\n",
            "[nltk_data] Downloading package wordnet to /root/nltk_data...\n",
            "[nltk_data]   Package wordnet is already up-to-date!\n"
          ]
        },
        {
          "output_type": "stream",
          "name": "stdout",
          "text": [
            "Lemmatized Corpus:\n",
            "['şarkı sözleri bulunamadı']\n",
            "\n",
            "Stemmed Corpus:\n",
            "['şarkı sözleri bulunamadı']\n",
            "\n",
            "En Benzer 5 Şarkı:\n",
            "Benzerlik Skoru: 0.0\n",
            "Şarkı: şarkı sözleri bulunamadı\n"
          ]
        }
      ]
    },
    {
      "cell_type": "code",
      "source": [
        "import pandas as pd\n",
        "from sklearn.feature_extraction.text import TfidfVectorizer\n",
        "\n",
        "# Ön işlenmiş token listelerini tekrar metne çeviriyoruz (lemmatize edilmiş metinler)\n",
        "lemmatized_texts = [' '.join(tokens) for tokens in lemmatized_corpus]\n",
        "\n",
        "# İlk 3 şarkı örneği\n",
        "lemmatized_texts[:3]\n"
      ],
      "metadata": {
        "colab": {
          "base_uri": "https://localhost:8080/"
        },
        "id": "H686rlfaTzP7",
        "outputId": "bace98a0-fe75-43e9-faf0-be22c51b1274"
      },
      "execution_count": null,
      "outputs": [
        {
          "output_type": "execute_result",
          "data": {
            "text/plain": [
              "['ş a r k ı   s ö z l e r i   b u l u n a m a d ı',\n",
              " \"I   a m   t h e   w a l r u s ,   g o o   g o o   g ' j o o b\"]"
            ]
          },
          "metadata": {},
          "execution_count": 54
        }
      ]
    },
    {
      "cell_type": "code",
      "source": [
        "import pandas as pd\n",
        "from sklearn.feature_extraction.text import TfidfVectorizer\n",
        "\n",
        "# Örnek olarak, lemmatize edilmiş şarkı sözlerini içeren bir liste\n",
        "# Burada lemmatized_corpus, her şarkının işlenmiş ve lemmatize edilmiş metinlerini içeriyor\n",
        "lemmatized_corpus = [\n",
        "    ['hello', 'world', 'this', 'is', 'a', 'song'],\n",
        "    ['another', 'song', 'with', 'some', 'lyrics'],\n",
        "    ['yet', 'another', 'song', 'for', 'you'],\n",
        "    # Buraya diğer şarkı sözlerini ekleyebilirsiniz\n",
        "]\n",
        "\n",
        "# Boş cümleleri atlıyoruz (lemmatize edilmiş metinler)\n",
        "lemmatized_texts = [' '.join(tokens) for tokens in lemmatized_corpus if tokens]  # Boş olanları kaldırıyoruz\n",
        "\n",
        "# Eğer hala boş şarkılar varsa bir uyarı verelim\n",
        "if not lemmatized_texts:\n",
        "    print(\"Uyarı: Boş şarkı sözleri var!\")\n",
        "\n",
        "# TF-IDF vektörizerı başlatıyoruz, stop kelimelerini otomatik çıkaralım\n",
        "vectorizer = TfidfVectorizer(stop_words='english')\n",
        "\n",
        "# TF-IDF matrisini oluşturuyoruz\n",
        "tfidf_matrix = vectorizer.fit_transform(lemmatized_texts)\n",
        "\n",
        "# TF-IDF vektörleştirme işleminde kullanılan tüm kelimelerin eşsiz bir listesini döndürür\n",
        "feature_names = vectorizer.get_feature_names_out()\n",
        "\n",
        "# TF-IDF matrisini pandas DataFrame'e çeviriyoruz, görünürlük açısından çalışması kolay\n",
        "tfidf_df = pd.DataFrame(tfidf_matrix.toarray(), columns=feature_names)\n",
        "\n",
        "# İlk birkaç satırı gösterelim - ilk 5 şarkı\n",
        "print(tfidf_df.head())\n",
        "\n",
        "# Her satır bir şarkıyı temsil eder\n",
        "# Her sütun bir kelimeyi temsil eder\n",
        "# Hücreler ise o kelimenin o şarkıdaki TF-IDF skorudur\n"
      ],
      "metadata": {
        "colab": {
          "base_uri": "https://localhost:8080/"
        },
        "id": "j0G8IxR4TzuI",
        "outputId": "f0f6bf22-bd91-4532-b103-33038aea460c"
      },
      "execution_count": null,
      "outputs": [
        {
          "output_type": "stream",
          "name": "stdout",
          "text": [
            "      hello    lyrics      song     world\n",
            "0  0.652491  0.000000  0.385372  0.652491\n",
            "1  0.000000  0.861037  0.508542  0.000000\n",
            "2  0.000000  0.000000  1.000000  0.000000\n"
          ]
        }
      ]
    },
    {
      "cell_type": "code",
      "source": [
        "import pandas as pd\n",
        "from sklearn.feature_extraction.text import TfidfVectorizer\n",
        "\n",
        "# Örnek olarak, lemmatize edilmiş şarkı sözlerini içeren bir liste\n",
        "lemmatized_corpus = [\n",
        "    ['hello', 'world', 'this', 'is', 'a', 'song'],\n",
        "    ['another', 'song', 'with', 'some', 'lyrics'],\n",
        "    ['yet', 'another', 'song', 'for', 'you'],\n",
        "    ['songs', 'are', 'great', 'to', 'listen'],\n",
        "    ['i', 'love', 'music', 'and', 'songs'],\n",
        "]\n",
        "\n",
        "# Boş cümleleri atlıyoruz (lemmatize edilmiş metinler)\n",
        "lemmatized_texts = [' '.join(tokens) for tokens in lemmatized_corpus if tokens]\n",
        "\n",
        "# Eğer hala boş şarkılar varsa bir uyarı verelim\n",
        "if not lemmatized_texts:\n",
        "    print(\"Uyarı: Boş şarkı sözleri var!\")\n",
        "\n",
        "# TF-IDF vektörizerı başlatıyoruz, stop kelimelerini otomatik çıkaralım\n",
        "vectorizer = TfidfVectorizer(stop_words='english')\n",
        "\n",
        "# TF-IDF matrisini oluşturuyoruz\n",
        "tfidf_matrix = vectorizer.fit_transform(lemmatized_texts)\n",
        "\n",
        "# TF-IDF vektörleştirme işleminde kullanılan tüm kelimelerin eşsiz bir listesini döndürür\n",
        "feature_names = vectorizer.get_feature_names_out()\n",
        "\n",
        "# TF-IDF matrisini pandas DataFrame'e çeviriyoruz, görünürlük açısından çalışması kolay\n",
        "tfidf_df = pd.DataFrame(tfidf_matrix.toarray(), columns=feature_names)\n",
        "\n",
        "# İlk şarkı için TF-IDF skorlarını alıyoruz\n",
        "first_song_vector = tfidf_df.iloc[0]\n",
        "\n",
        "# Skorlara göre sırala (yüksekten düşüğe)\n",
        "top_5_words = first_song_vector.sort_values(ascending=False).head(5)\n",
        "\n",
        "# Sonucu yazdır\n",
        "print(\"İlk şarkıda en yüksek TF-IDF skoruna sahip 5 kelime:\")\n",
        "print(top_5_words)\n",
        "\n",
        "# Şimdi, diğer şarkılarla benzerlik ölçümü yapabiliriz.\n",
        "# Örneğin, ilk şarkıya benzer olan şarkıları bulmak için Cosine Similarity kullanabiliriz:\n",
        "\n",
        "from sklearn.metrics.pairwise import cosine_similarity\n",
        "\n",
        "# Cosine similarity hesaplayalım\n",
        "cosine_similarities = cosine_similarity(tfidf_matrix[0:1], tfidf_matrix)\n",
        "\n",
        "# İlk şarkıya benzerlik oranlarına göre şarkıları sıralayalım\n",
        "similarity_scores = cosine_similarities.flatten()\n",
        "similar_songs_indices = similarity_scores.argsort()[-6:-1][::-1]  # İlk şarkı hariç en benzer 5 şarkıyı al\n",
        "\n",
        "# Benzer şarkıları yazdıralım\n",
        "print(\"\\nİlk şarkıya benzer 5 şarkı:\")\n",
        "for idx in similar_songs_indices:\n",
        "    print(f\"Şarkı {idx+1} - Benzerlik Skoru: {similarity_scores[idx]}\")\n"
      ],
      "metadata": {
        "colab": {
          "base_uri": "https://localhost:8080/"
        },
        "id": "0Rgy0WLcVBJ1",
        "outputId": "b51d321a-189f-4af9-a4e1-004a4d9e8c62"
      },
      "execution_count": null,
      "outputs": [
        {
          "output_type": "stream",
          "name": "stdout",
          "text": [
            "İlk şarkıda en yüksek TF-IDF skoruna sahip 5 kelime:\n",
            "hello     0.639070\n",
            "world     0.639070\n",
            "song      0.427993\n",
            "great     0.000000\n",
            "listen    0.000000\n",
            "Name: 0, dtype: float64\n",
            "\n",
            "İlk şarkıya benzer 5 şarkı:\n",
            "Şarkı 3 - Benzerlik Skoru: 0.4279929226831736\n",
            "Şarkı 2 - Benzerlik Skoru: 0.2381568846909539\n",
            "Şarkı 5 - Benzerlik Skoru: 0.0\n",
            "Şarkı 4 - Benzerlik Skoru: 0.0\n"
          ]
        }
      ]
    },
    {
      "cell_type": "code",
      "source": [
        "import numpy as np\n",
        "from sklearn.metrics.pairwise import cosine_similarity\n",
        "\n",
        "# Örnek olarak, lemmatize edilmiş şarkı sözlerini içeren bir liste\n",
        "lemmatized_corpus = [\n",
        "    ['hello', 'world', 'this', 'is', 'a', 'song'],\n",
        "    ['another', 'song', 'with', 'some', 'lyrics'],\n",
        "    ['yet', 'another', 'song', 'for', 'you'],\n",
        "    ['songs', 'are', 'great', 'to', 'listen'],\n",
        "    ['i', 'love', 'music', 'and', 'songs'],\n",
        "]\n",
        "\n",
        "# Boş cümleleri atlıyoruz (lemmatize edilmiş metinler)\n",
        "lemmatized_texts = [' '.join(tokens) for tokens in lemmatized_corpus if tokens]\n",
        "\n",
        "# TF-IDF vektörizerı başlatıyoruz, stop kelimelerini otomatik çıkaralım\n",
        "vectorizer = TfidfVectorizer(stop_words='english')\n",
        "\n",
        "# TF-IDF matrisini oluşturuyoruz\n",
        "tfidf_matrix = vectorizer.fit_transform(lemmatized_texts)\n",
        "\n",
        "# TF-IDF vektörleştirme işleminde kullanılan tüm kelimelerin eşsiz bir listesini döndürür\n",
        "feature_names = vectorizer.get_feature_names_out()\n",
        "\n",
        "# Örneğin 'song' kelimesinin vektörünü alıyoruz\n",
        "word_index = feature_names.tolist().index('song')  # 'song' kelimesinin indeksini bul\n",
        "\n",
        "# 'song' kelimesinin TF-IDF vektörünü alıyoruz ve 2D formatta yapıyoruz\n",
        "word_vector = tfidf_matrix[:, word_index].toarray()\n",
        "\n",
        "# Tüm şarkıların TF-IDF vektörlerini alıyoruz\n",
        "tfidf_vectors = tfidf_matrix.toarray()\n",
        "\n",
        "# Cosine similarity hesaplayalım\n",
        "similarities = cosine_similarity(word_vector.T, tfidf_vectors.T)\n",
        "\n",
        "# Benzerlikleri sıralayalım ve en yüksek 5 şarkıyı seçelim\n",
        "similarities = similarities.flatten()\n",
        "top_5_indices = similarities.argsort()[-6:][::-1]  # İlk şarkı hariç, en yüksek 5 şarkıyı alıyoruz\n",
        "\n",
        "# Sonuçları yazdıralım\n",
        "print(f\"'song' kelimesine en benzer 5 şarkı:\")\n",
        "for index in top_5_indices:\n",
        "    print(f\"Şarkı {index+1} - Benzerlik Skoru: {similarities[index]:.4f}\")\n"
      ],
      "metadata": {
        "colab": {
          "base_uri": "https://localhost:8080/"
        },
        "id": "FaJ_2_BtVBXG",
        "outputId": "eec45fcd-1e18-4a20-dc8c-45def20faeb1"
      },
      "execution_count": null,
      "outputs": [
        {
          "output_type": "stream",
          "name": "stdout",
          "text": [
            "'song' kelimesine en benzer 5 şarkı:\n",
            "Şarkı 7 - Benzerlik Skoru: 1.0000\n",
            "Şarkı 5 - Benzerlik Skoru: 0.4554\n",
            "Şarkı 9 - Benzerlik Skoru: 0.3503\n",
            "Şarkı 2 - Benzerlik Skoru: 0.3503\n",
            "Şarkı 8 - Benzerlik Skoru: 0.0000\n",
            "Şarkı 6 - Benzerlik Skoru: 0.0000\n"
          ]
        }
      ]
    },
    {
      "cell_type": "code",
      "source": [
        "import pandas as pd\n",
        "from sklearn.feature_extraction.text import TfidfVectorizer\n",
        "import nltk\n",
        "from nltk.tokenize import word_tokenize\n",
        "from nltk.corpus import stopwords\n",
        "from nltk.stem import WordNetLemmatizer, PorterStemmer\n",
        "from sklearn.metrics.pairwise import cosine_similarity\n",
        "\n",
        "# Şarkı sözleri içeren örnek veri seti\n",
        "songs = [\n",
        "    {'song_name': 'Shape of You', 'artist': 'Ed Sheeran', 'lyrics': \"The club isn't the best place to find a lover, So the bar is where I go...\"},\n",
        "    {'song_name': 'Blinding Lights', 'artist': 'The Weeknd', 'lyrics': \"I've been tryna call, I've been on my own for long enough...\"},\n",
        "    {'song_name': 'Happier', 'artist': 'Ed Sheeran', 'lyrics': \"Lately, I've been, I've been thinking, I want you to be happier...\"},\n",
        "    {'song_name': 'Rolling in the Deep', 'artist': 'Adele', 'lyrics': \"We could have had it all, Rolling in the deep...\"},\n",
        "    {'song_name': 'Someone Like You', 'artist': 'Adele', 'lyrics': \"I heard that you're settled down, That you found a girl and you're married now...\"}\n",
        "]\n",
        "\n",
        "# Şarkılar veritabanını DataFrame'e çeviriyoruz\n",
        "songs_df = pd.DataFrame(songs)\n",
        "\n",
        "# NLTK stopwords'leri indiriyoruz\n",
        "nltk.download('stopwords')\n",
        "nltk.download('punkt')\n",
        "stop_words = set(stopwords.words('english'))\n",
        "\n",
        "# Lemmatizer ve Stemmer'ı başlat\n",
        "lemmatizer = WordNetLemmatizer()\n",
        "stemmer = PorterStemmer()\n",
        "\n",
        "# Kelimeleri tokenleştirip, stopword'leri çıkarma\n",
        "def preprocess_lyrics(lyrics):\n",
        "    tokens = word_tokenize(lyrics)  # Cümleyi kelimelere ayır\n",
        "    filtered_tokens = [token.lower() for token in tokens if token.isalpha() and token.lower() not in stop_words]\n",
        "    return ' '.join(filtered_tokens)\n",
        "\n",
        "# Şarkı sözlerini işliyoruz\n",
        "songs_df['processed_lyrics'] = songs_df['lyrics'].apply(preprocess_lyrics)\n",
        "\n",
        "# TF-IDF vektörizerı başlatıyoruz, n-gramları da dikkate alıyoruz\n",
        "vectorizer = TfidfVectorizer(min_df=1, ngram_range=(1, 2))  # unigram + bigram\n",
        "\n",
        "# Şarkı sözlerini vektörize ediyoruz\n",
        "tfidf_matrix = vectorizer.fit_transform(songs_df['processed_lyrics'])\n",
        "\n",
        "# Şarkı isimlerini ve benzerlik skorlarını alalım\n",
        "def get_similar_songs(song_name):\n",
        "    # İlgili şarkının vektörünü alalım\n",
        "    song_index = songs_df[songs_df['song_name'] == song_name].index[0]\n",
        "    song_vector = tfidf_matrix[song_index]\n",
        "\n",
        "    # Diğer şarkılarla olan benzerliği hesaplayalım\n",
        "    similarities = cosine_similarity(song_vector, tfidf_matrix)\n",
        "    similarities = similarities.flatten()\n",
        "\n",
        "    # En benzer 5 şarkıyı bulalım\n",
        "    similar_songs_indices = similarities.argsort()[-6:][::-1]  # 6. en büyükten başlıyoruz çünkü kendisi de dahil\n",
        "\n",
        "    similar_songs = []\n",
        "    for index in similar_songs_indices:\n",
        "        similar_songs.append({\n",
        "            'song_name': songs_df['song_name'][index],\n",
        "            'artist': songs_df['artist'][index],\n",
        "            'similarity_score': similarities[index]\n",
        "        })\n",
        "\n",
        "    # Sonuçları yazdıralım\n",
        "    print(f\"'{song_name}' şarkısına benzer şarkılar:\")\n",
        "    for song in similar_songs[1:]:  # İlk şarkıyı dahil etmiyoruz çünkü o, aradığımız şarkıdır\n",
        "        print(f\"Song: {song['song_name']}, Artist: {song['artist']}, Similarity: {song['similarity_score']:.4f}\")\n",
        "\n",
        "# Örnek kullanım: \"Shape of You\" şarkısına benzer şarkıları öner\n",
        "get_similar_songs(\"Shape of You\")\n"
      ],
      "metadata": {
        "colab": {
          "base_uri": "https://localhost:8080/"
        },
        "id": "1gY8z7I-VBf1",
        "outputId": "1f8be6bc-fb75-41d7-dbe9-c28d1d7027e8"
      },
      "execution_count": null,
      "outputs": [
        {
          "output_type": "stream",
          "name": "stdout",
          "text": [
            "'Shape of You' şarkısına benzer şarkılar:\n",
            "Song: Someone Like You, Artist: Adele, Similarity: 0.0000\n",
            "Song: Rolling in the Deep, Artist: Adele, Similarity: 0.0000\n",
            "Song: Happier, Artist: Ed Sheeran, Similarity: 0.0000\n",
            "Song: Blinding Lights, Artist: The Weeknd, Similarity: 0.0000\n"
          ]
        },
        {
          "output_type": "stream",
          "name": "stderr",
          "text": [
            "[nltk_data] Downloading package stopwords to /root/nltk_data...\n",
            "[nltk_data]   Package stopwords is already up-to-date!\n",
            "[nltk_data] Downloading package punkt to /root/nltk_data...\n",
            "[nltk_data]   Package punkt is already up-to-date!\n"
          ]
        }
      ]
    },
    {
      "cell_type": "code",
      "source": [],
      "metadata": {
        "colab": {
          "base_uri": "https://localhost:8080/"
        },
        "id": "d_zGYFXlWhuA",
        "outputId": "e47380b8-1137-454c-dc29-eef9a1bd4f01"
      },
      "execution_count": null,
      "outputs": [
        {
          "output_type": "stream",
          "name": "stdout",
          "text": [
            "Song: Someone Like You, Artist: Adele, Similarity: 0.0000\n",
            "Song: Blinding Lights, Artist: The Weeknd, Similarity: 0.0000\n",
            "Song: Rolling in the Deep, Artist: Adele, Similarity: 0.0000\n",
            "Song: Perfect, Artist: Ed Sheeran, Similarity: 0.0000\n"
          ]
        }
      ]
    },
    {
      "cell_type": "code",
      "source": [],
      "metadata": {
        "id": "wEU2EbuSYgg3"
      },
      "execution_count": null,
      "outputs": []
    },
    {
      "cell_type": "code",
      "source": [],
      "metadata": {
        "id": "Egrr-3Y0Ygk0"
      },
      "execution_count": null,
      "outputs": []
    },
    {
      "cell_type": "code",
      "source": [],
      "metadata": {
        "id": "tcTovwPlWh7N"
      },
      "execution_count": null,
      "outputs": []
    }
  ],
  "metadata": {
    "colab": {
      "toc_visible": true,
      "provenance": [],
      "include_colab_link": true
    },
    "kernelspec": {
      "display_name": "Python 3",
      "name": "python3"
    }
  },
  "nbformat": 4,
  "nbformat_minor": 0
}